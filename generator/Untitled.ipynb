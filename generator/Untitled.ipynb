{
 "cells": [
  {
   "cell_type": "code",
   "execution_count": 25,
   "id": "dda35392",
   "metadata": {},
   "outputs": [],
   "source": [
    "from PIL import Image\n",
    "from IPython.display import display\n",
    "import random\n",
    "import json"
   ]
  },
  {
   "cell_type": "code",
   "execution_count": 3,
   "id": "c0c241e5",
   "metadata": {},
   "outputs": [],
   "source": [
    "background = [\"Blue\", \"Orange\"]\n",
    "background_weights = [30,15]\n",
    "\n",
    "circle = [\"Blue\", \"Orange\"]\n",
    "circle_weights = [30,15]\n",
    "\n",
    "square = [\"Blue\", \"Orange\"]\n",
    "square_weights = [30,15]\n",
    "\n",
    "background_files = { \n",
    "    \"Blue\" : \"blue\",\n",
    "    \"Orange\" : \"orange\",\n",
    "}\n",
    "\n",
    "square_files = {\n",
    "    \"Blue\" : \"blue-square\",\n",
    "    \"Orange\" : \"orange-square\",\n",
    "}\n",
    "\n",
    "circle_files = {\n",
    "    \"Blue\" : \"blue-circle\",\n",
    "    \"Orange\" : \"orange-circle\",\n",
    "}"
   ]
  },
  {
   "cell_type": "code",
   "execution_count": 4,
   "id": "05cb08b4",
   "metadata": {},
   "outputs": [],
   "source": [
    "TOTAL_IMAGES = 5\n",
    "\n",
    "all_images = []\n",
    "\n",
    "def create_new_image():\n",
    "    new_image = {}\n",
    "    \n",
    "    #For each feature category, select a random feature according to the weight\n",
    "    new_image [\"Background\"] = random.choices(background, background_weights)[0]\n",
    "    new_image [\"Circle\"] = random.choices(circle, circle_weights)[0]\n",
    "    new_image [\"Square\"] = random.choices(square, square_weights)[0]\n",
    "\n",
    "    if new_image in all_images:\n",
    "        return create_new_image()\n",
    "    else:\n",
    "        return new_image\n",
    "    \n",
    "for i in range(TOTAL_IMAGES):\n",
    "    new_trait_image = create_new_image()\n",
    "    all_images.append(new_trait_image)"
   ]
  },
  {
   "cell_type": "code",
   "execution_count": 5,
   "id": "c08aacfe",
   "metadata": {},
   "outputs": [
    {
     "name": "stdout",
     "output_type": "stream",
     "text": [
      "Ara all images unique? True\n"
     ]
    }
   ],
   "source": [
    "def all_images_unique(all_images):\n",
    "    seen = list()\n",
    "    return not any(i in seen or seen.append(i) for i in all_images)\n",
    "\n",
    "print(\"Ara all images unique?\", all_images_unique(all_images))"
   ]
  },
  {
   "cell_type": "code",
   "execution_count": 59,
   "id": "662096b3",
   "metadata": {},
   "outputs": [],
   "source": [
    "i = 0\n",
    "for item in all_images:\n",
    "    item[\"tokenId\"] = i\n",
    "    i = i + 1\n"
   ]
  },
  {
   "cell_type": "code",
   "execution_count": 41,
   "id": "2a8a2c56",
   "metadata": {},
   "outputs": [
    {
     "name": "stdout",
     "output_type": "stream",
     "text": [
      "[{'Background': 'Orange', 'Circle': 'Blue', 'Square': 'Blue', 'tokenID': 0}, {'Background': 'Blue', 'Circle': 'Blue', 'Square': 'Blue', 'tokenID': 1}, {'Background': 'Blue', 'Circle': 'Blue', 'Square': 'Orange', 'tokenID': 2}, {'Background': 'Orange', 'Circle': 'Orange', 'Square': 'Blue', 'tokenID': 3}, {'Background': 'Blue', 'Circle': 'Orange', 'Square': 'Blue', 'tokenID': 4}]\n"
     ]
    }
   ],
   "source": [
    "print(all_images)"
   ]
  },
  {
   "cell_type": "code",
   "execution_count": 42,
   "id": "f0f8288e",
   "metadata": {},
   "outputs": [
    {
     "name": "stdout",
     "output_type": "stream",
     "text": [
      "{'Blue': 3, 'Orange': 2}\n",
      "{'Blue': 3, 'Orange': 2}\n",
      "{'Blue': 4, 'Orange': 1}\n"
     ]
    }
   ],
   "source": [
    "background_count = {}\n",
    "for item in background:\n",
    "    background_count[item] = 0\n",
    "    \n",
    "circle_count = {}\n",
    "for item in circle:\n",
    "    circle_count[item] = 0\n",
    "    \n",
    "square_count = {}\n",
    "for item in square:\n",
    "    square_count[item] = 0\n",
    "    \n",
    "for image in all_images:\n",
    "    background_count[image[\"Background\"]] += 1\n",
    "    circle_count[image[\"Circle\"]] += 1\n",
    "    square_count[image[\"Square\"]] += 1\n",
    "    \n",
    "print(background_count)\n",
    "print(circle_count)\n",
    "print(square_count)"
   ]
  },
  {
   "cell_type": "code",
   "execution_count": 43,
   "id": "ab6f8ea5",
   "metadata": {},
   "outputs": [],
   "source": [
    "METADATA_FILE_NAME = \"./metadata/all-traits.json\";\n",
    "with open(METADATA_FILE_NAME, 'w') as outfile:\n",
    "    json.dump(all_images,outfile,indent=4)"
   ]
  },
  {
   "cell_type": "code",
   "execution_count": 56,
   "id": "144bd4a1",
   "metadata": {},
   "outputs": [],
   "source": [
    "for item in all_images:\n",
    "    \n",
    "    im1 = Image.open(f'./images/backgrounds/{background_files[item[\"Background\"]]}.jpg').convert('RGBA')\n",
    "    im2 = Image.open(f'./images/shapes/circles/{circle_files[item[\"Circle\"]]}.png').convert('RGBA')\n",
    "    im3 = Image.open(f'./images/shapes/squares/{square_files[item[\"Square\"]]}.png').convert('RGBA')\n",
    "   \n",
    "    #Create each composite\n",
    "    com1 = Image.alpha_composite(im1, im2)\n",
    "    com2 = Image.alpha_composite(com1, im3)\n",
    "    \n",
    "    #Convert to RGB\n",
    "    rgb_im = com2.convert(\"RGB\")\n",
    "    file_name = str(item['tokenID']) + \".png\"\n",
    "    rgb_im.save(\"./images/\" + file_name)"
   ]
  },
  {
   "cell_type": "code",
   "execution_count": 58,
   "id": "ea815321",
   "metadata": {},
   "outputs": [
    {
     "ename": "KeyError",
     "evalue": "'tokenId'",
     "output_type": "error",
     "traceback": [
      "\u001b[0;31m---------------------------------------------------------------------------\u001b[0m",
      "\u001b[0;31mKeyError\u001b[0m                                  Traceback (most recent call last)",
      "\u001b[0;32m<ipython-input-58-915ab0425765>\u001b[0m in \u001b[0;36m<module>\u001b[0;34m\u001b[0m\n\u001b[1;32m     11\u001b[0m     }\n\u001b[1;32m     12\u001b[0m \u001b[0;32mfor\u001b[0m \u001b[0mi\u001b[0m \u001b[0;32min\u001b[0m \u001b[0mdata\u001b[0m\u001b[0;34m:\u001b[0m\u001b[0;34m\u001b[0m\u001b[0;34m\u001b[0m\u001b[0m\n\u001b[0;32m---> 13\u001b[0;31m     \u001b[0mtoken_id\u001b[0m \u001b[0;34m=\u001b[0m \u001b[0mi\u001b[0m\u001b[0;34m[\u001b[0m\u001b[0;34m'tokenId'\u001b[0m\u001b[0;34m]\u001b[0m\u001b[0;34m\u001b[0m\u001b[0;34m\u001b[0m\u001b[0m\n\u001b[0m\u001b[1;32m     14\u001b[0m     token = {\n\u001b[1;32m     15\u001b[0m         \u001b[0;34m\"image\"\u001b[0m\u001b[0;34m:\u001b[0m \u001b[0mIMAGES_BASE_URI\u001b[0m \u001b[0;34m+\u001b[0m \u001b[0mstr\u001b[0m\u001b[0;34m(\u001b[0m\u001b[0mtoken_id\u001b[0m\u001b[0;34m)\u001b[0m \u001b[0;34m+\u001b[0m\u001b[0;34m'.png'\u001b[0m\u001b[0;34m,\u001b[0m\u001b[0;34m\u001b[0m\u001b[0;34m\u001b[0m\u001b[0m\n",
      "\u001b[0;31mKeyError\u001b[0m: 'tokenId'"
     ]
    }
   ],
   "source": [
    "f = open('./metadata/all-traits.json',)\n",
    "data = json.load(f)\n",
    "\n",
    "IMAGES_BASE_URI = \"ADD_IMAGES_BASE_URI_HERE\"\n",
    "PROJECT_NAME = \"ADD_PROJECT_NAME_HERE\"\n",
    "\n",
    "def getAttribute(key, value):\n",
    "    return {\n",
    "        \"trait_type\": key,\n",
    "        \"value\": value\n",
    "    }\n",
    "for i in data:\n",
    "    token_id = i['tokenId']\n",
    "    token = {\n",
    "        \"image\": IMAGES_BASE_URI + str(token_id) +'.png',\n",
    "        \"tokenId\": token_id,\n",
    "        \"name\": PROJECT_NAME + '' + str(token_id),\n",
    "        \"attributes\": []\n",
    "    }\n",
    "    token[\"attributes\"].append(getAttribute(\"Background\", i[\"Background\"]))\n",
    "    token[\"attributes\"].append(getAttribute(\"Circle\", i[\"Circle\"]))\n",
    "    token[\"attributes\"].append(getAttribute(\"Square\", i[\"Square\"]))\n",
    "\n",
    "    with open('./metadata/' + str(token_id),'w') as outfile:\n",
    "        json.dump(token, outfile, indent=4)\n",
    "f.close()"
   ]
  },
  {
   "cell_type": "code",
   "execution_count": null,
   "id": "4ff97623",
   "metadata": {},
   "outputs": [],
   "source": []
  }
 ],
 "metadata": {
  "kernelspec": {
   "display_name": "Python 3",
   "language": "python",
   "name": "python3"
  },
  "language_info": {
   "codemirror_mode": {
    "name": "ipython",
    "version": 3
   },
   "file_extension": ".py",
   "mimetype": "text/x-python",
   "name": "python",
   "nbconvert_exporter": "python",
   "pygments_lexer": "ipython3",
   "version": "3.7.10"
  }
 },
 "nbformat": 4,
 "nbformat_minor": 5
}
